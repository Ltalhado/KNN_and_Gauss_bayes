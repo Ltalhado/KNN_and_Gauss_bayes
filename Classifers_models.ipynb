{
  "nbformat": 4,
  "nbformat_minor": 0,
  "metadata": {
    "colab": {
      "name": "Classifers_models.ipynb",
      "private_outputs": true,
      "provenance": [],
      "collapsed_sections": [],
      "authorship_tag": "ABX9TyOXFchOk2XmyOnWc4UqfM9v",
      "include_colab_link": true
    },
    "kernelspec": {
      "name": "python3",
      "display_name": "Python 3"
    },
    "language_info": {
      "name": "python"
    }
  },
  "cells": [
    {
      "cell_type": "markdown",
      "metadata": {
        "id": "view-in-github",
        "colab_type": "text"
      },
      "source": [
        "<a href=\"https://colab.research.google.com/github/Ltalhado/KNN_and_Gauss_bayes/blob/main/Classifers_models.ipynb\" target=\"_parent\"><img src=\"https://colab.research.google.com/assets/colab-badge.svg\" alt=\"Open In Colab\"/></a>"
      ]
    },
    {
      "cell_type": "code",
      "metadata": {
        "id": "M4VDlkOUYzuF"
      },
      "source": [
        "%matplotlib inline\n",
        "import numpy as np\n",
        "import pandas as pd\n",
        "import matplotlib.pyplot as plt\n",
        "import seaborn as sns\n",
        "from scipy.stats import multivariate_normal as mvn\n"
      ],
      "execution_count": null,
      "outputs": []
    },
    {
      "cell_type": "code",
      "metadata": {
        "id": "Ij6LOs6fZKe1"
      },
      "source": [
        "from google.colab import drive\n",
        "drive.mount('/content/drive')"
      ],
      "execution_count": null,
      "outputs": []
    },
    {
      "cell_type": "code",
      "metadata": {
        "id": "LvWXqLZImsj3"
      },
      "source": [
        "# loading training  data \n",
        "t_data=pd.read_csv('/content/drive/MyDrive/MNIST_train_.csv')\n",
        "test_d=pd.read_csv('/content/drive/MyDrive/MNIST_test.csv')"
      ],
      "execution_count": null,
      "outputs": []
    },
    {
      "cell_type": "code",
      "metadata": {
        "id": "KWwpTuQglZKH"
      },
      "source": [
        "# Checking shapes\n",
        "t_data.shape"
      ],
      "execution_count": null,
      "outputs": []
    },
    {
      "cell_type": "code",
      "metadata": {
        "id": "LbbIh2PADJiH"
      },
      "source": [
        "# Checking names of columns\n",
        "t_data.columns"
      ],
      "execution_count": null,
      "outputs": []
    },
    {
      "cell_type": "code",
      "metadata": {
        "id": "qHLDdeueBwtr"
      },
      "source": [
        "# Checking shapes\n",
        "test_d.shape"
      ],
      "execution_count": null,
      "outputs": []
    },
    {
      "cell_type": "code",
      "metadata": {
        "id": "miCLvo08Zb9X"
      },
      "source": [
        "T_arr = t_data.to_numpy()\n",
        "TestA= test_d.to_numpy()"
      ],
      "execution_count": null,
      "outputs": []
    },
    {
      "cell_type": "code",
      "metadata": {
        "id": "R4DC4gb5bm0e"
      },
      "source": [
        "X = np.delete(T_arr,[0,1,2],axis=1)\n",
        "testx= np.delete(TestA,[0,1,2],axis=1)"
      ],
      "execution_count": null,
      "outputs": []
    },
    {
      "cell_type": "code",
      "metadata": {
        "id": "mkISTRjNct1D"
      },
      "source": [
        "X = X/255\n",
        "testx =testx/255"
      ],
      "execution_count": null,
      "outputs": []
    },
    {
      "cell_type": "code",
      "metadata": {
        "id": "hnybEKwZcx3p"
      },
      "source": [
        "y =T_arr[:,2]\n",
        "testy =TestA[:,2]"
      ],
      "execution_count": null,
      "outputs": []
    },
    {
      "cell_type": "code",
      "metadata": {
        "id": "AZS_9yT4DCIy"
      },
      "source": [
        "\"\"\"\n",
        "Drop elements within dataset that are not needed\n",
        "\n",
        "# \"\"\"\n",
        "# t_data.drop(['Unnamed: 0', 'index', 'labels'], axis=1,inplace=True)\n",
        "# # t_data.drop(['Unnamed: 0', 'index', 'labels'], axis=1)"
      ],
      "execution_count": null,
      "outputs": []
    },
    {
      "cell_type": "code",
      "metadata": {
        "id": "mm03vxlZC3Bf"
      },
      "source": [
        "# \"\"\"\n",
        "# Drop elements within dataset that are not needed\n",
        "\n",
        "# \"\"\"\n",
        "# test_d.drop(['Unnamed: 0', 'index', 'labels'], axis=1,inplace=True)\n",
        "# # test_d.drop(['Unnamed: 0', 'index', 'labels'], axis=1)"
      ],
      "execution_count": null,
      "outputs": []
    },
    {
      "cell_type": "code",
      "metadata": {
        "id": "W4k_LH9CcFk_"
      },
      "source": [
        "X.shape\n"
      ],
      "execution_count": null,
      "outputs": []
    },
    {
      "cell_type": "code",
      "metadata": {
        "id": "Mgo6A_bIcK6U"
      },
      "source": [
        "#y=y[:,-1]\n",
        "y.shape"
      ],
      "execution_count": null,
      "outputs": []
    },
    {
      "cell_type": "code",
      "metadata": {
        "id": "gHfvg_l5aSav"
      },
      "source": [
        "# Accuracy \n",
        "def accuracy(y,y_hat):\n",
        "  return np.mean(y==y_hat)"
      ],
      "execution_count": null,
      "outputs": []
    },
    {
      "cell_type": "code",
      "metadata": {
        "id": "x2pM5xvHZV_C"
      },
      "source": [
        "class KNNClassifier:\n",
        "    def fit(self,X,y):\n",
        "        self.X = X\n",
        "        self.y = y\n",
        "        \n",
        "    def predict(self, X, K, epsilon=1e-3):\n",
        "        N=len(X)\n",
        "        y_hat = np.zeros(N)\n",
        "        \n",
        "        for i in range(N):\n",
        "            dist2 = np.sum((self.X-X[i])**2,axis=1)\n",
        "            idxt = np.argsort(dist2)[:K]\n",
        "            gamma_k = 1/(np.sqrt(dist2[idxt])+epsilon)\n",
        "            y_hat[i] = np.bincount(self.y[idxt], weights=gamma_k).argmax()\n",
        "             \n",
        "        return y_hat"
      ],
      "execution_count": null,
      "outputs": []
    },
    {
      "cell_type": "code",
      "metadata": {
        "id": "A6v_RXsca4Ra"
      },
      "source": [
        "class GaussNB:\n",
        "\n",
        "  def fit(self, X, y, epsilon= 1e-3):\n",
        "    self.likelihood = dict()\n",
        "    self.priors = dict()\n",
        "\n",
        "    self.K = set(y.astype(int))\n",
        "\n",
        "    for k in self.K:\n",
        "      \n",
        "      X_k = X[y==k,:]\n",
        "      \n",
        "      self.likelihood[k]={'mean': X_k.mean(axis= 0), \"cov\":X_k.var(axis=0) + epsilon}\n",
        "      \n",
        "      self.priors[k] = len(X_k)/len(X)\n",
        "\n",
        "  def predict(self, X):\n",
        "\n",
        "      n,d= X.shape\n",
        "\n",
        "      p_hat = np.zeros((n,len(self.K)))\n",
        "\n",
        "      for k, l in self.likelihood.items():\n",
        "        p_hat[:,k] = mvn.logpdf(X,l[\"mean\"],l[\"cov\"]) + np.log(self.priors[k])\n",
        "\n",
        "      return p_hat.argmax(axis=1)"
      ],
      "execution_count": null,
      "outputs": []
    },
    {
      "cell_type": "code",
      "metadata": {
        "id": "dUevVYFvbGHX"
      },
      "source": [
        "class GaussBayes:\n",
        "    def fit(self, X, y, epsilon=1e-3):\n",
        "        self.likelihood = dict()\n",
        "        self.priors = dict()\n",
        "        self.K = set(y.astype(int))\n",
        "\n",
        "        for k in self.K:\n",
        "            X_k = X[y == k, :]\n",
        "            N_k, D = X_k.shape\n",
        "            mu_k = X_k.mean(axis=0)\n",
        "            self.likelihood[k] = {'mean': X_k.mean(axis=0), 'cov': (1/ (N_k -1)) * np.matmul((X_k - mu_k).T,X_k - mu_k) + epsilon *np.identity(D)}\n",
        "            self.priors[k] = len(X_k)/len(X)\n",
        "\n",
        "    def predict(self, X):\n",
        "        N, D = X.shape\n",
        "        P_hat = np.zeros((N,len(self.K)))\n",
        "\n",
        "        for k , l in self.likelihood.items():\n",
        "            P_hat[:,k] = mvn.logpdf(X,l[\"mean\"],l[\"cov\"])+ np.log(self.priors[k])\n",
        "\n",
        "        return P_hat.argmax(axis=1) "
      ],
      "execution_count": null,
      "outputs": []
    },
    {
      "cell_type": "code",
      "metadata": {
        "id": "2btj7q-CI8Ku"
      },
      "source": [
        "# # Normalize test data\n",
        "# test_max_c = test_d.max()\n",
        "# test_max_data = test_max_c.max()\n",
        "# test_norm_data = test_d/test_max_data\n",
        "# print(test_norm_data)\n"
      ],
      "execution_count": null,
      "outputs": []
    },
    {
      "cell_type": "code",
      "metadata": {
        "id": "A-XPfXCAHKWo"
      },
      "source": [
        "# Normalizing training data\n",
        "# max_c = t_data.max()\n",
        "# max_data = max_c.max()\n",
        "# norm_data = t_data/max_data\n",
        "# print(norm_data)\n"
      ],
      "execution_count": null,
      "outputs": []
    },
    {
      "cell_type": "code",
      "metadata": {
        "id": "U8ccUDliycQl"
      },
      "source": [
        "print('*' * 18)\n",
        "print('Gauss bayes')\n",
        "print('*' * 18)"
      ],
      "execution_count": null,
      "outputs": []
    },
    {
      "cell_type": "code",
      "metadata": {
        "id": "wUwEQbaLbK_x"
      },
      "source": [
        "GB = GaussBayes()"
      ],
      "execution_count": null,
      "outputs": []
    },
    {
      "cell_type": "code",
      "metadata": {
        "id": "LPsnqKedbi7X"
      },
      "source": [
        "GB.fit(X,y)"
      ],
      "execution_count": null,
      "outputs": []
    },
    {
      "cell_type": "code",
      "metadata": {
        "id": "zCgjRa2BdFwJ"
      },
      "source": [
        "y_hat=GB.predict(X)"
      ],
      "execution_count": null,
      "outputs": []
    },
    {
      "cell_type": "code",
      "metadata": {
        "id": "EsyeWEstfaeL"
      },
      "source": [
        "accuracy(y,y_hat)"
      ],
      "execution_count": null,
      "outputs": []
    },
    {
      "cell_type": "code",
      "metadata": {
        "id": "8oKUG1iEEwW9"
      },
      "source": [
        "y_hat_test=GB.predict(testx)"
      ],
      "execution_count": null,
      "outputs": []
    },
    {
      "cell_type": "code",
      "metadata": {
        "id": "X89AAtFCFVBf"
      },
      "source": [
        "accuracy(testy,y_hat_test)"
      ],
      "execution_count": null,
      "outputs": []
    },
    {
      "cell_type": "code",
      "metadata": {
        "id": "R5fxXWqDwY2x"
      },
      "source": [
        "print('*' * 18)\n",
        "print('Gauss Navies bayes')\n",
        "print('*' * 18)"
      ],
      "execution_count": null,
      "outputs": []
    },
    {
      "cell_type": "code",
      "metadata": {
        "id": "8YzoJvizbQ_l"
      },
      "source": [
        "# GBN = GaussNB()"
      ],
      "execution_count": null,
      "outputs": []
    },
    {
      "cell_type": "code",
      "metadata": {
        "id": "IcHmTkaAbiF9"
      },
      "source": [
        "# GBN.fit(X,y)"
      ],
      "execution_count": null,
      "outputs": []
    },
    {
      "cell_type": "code",
      "metadata": {
        "id": "EdR8_NbfdY-O"
      },
      "source": [
        "# y_hat=GBN.predict(X)"
      ],
      "execution_count": null,
      "outputs": []
    },
    {
      "cell_type": "code",
      "metadata": {
        "id": "VXYgo_HVdqQP"
      },
      "source": [
        "# accuracy(y,y_hat)"
      ],
      "execution_count": null,
      "outputs": []
    },
    {
      "cell_type": "code",
      "metadata": {
        "id": "d0VgolyMFjhS"
      },
      "source": [
        "# y_hat_test=GBN.predict(testx)"
      ],
      "execution_count": null,
      "outputs": []
    },
    {
      "cell_type": "code",
      "metadata": {
        "id": "omtacQchFlhm"
      },
      "source": [
        "# accuracy(testy,y_hat_test)"
      ],
      "execution_count": null,
      "outputs": []
    },
    {
      "cell_type": "code",
      "metadata": {
        "id": "AcipDVeEnAEg"
      },
      "source": [
        "# print(X[3])\n",
        "# plt.imshow(X[3,:])\n",
        "# plt.colorbar()"
      ],
      "execution_count": null,
      "outputs": []
    },
    {
      "cell_type": "code",
      "metadata": {
        "id": "czJoFd5YwVB0"
      },
      "source": [
        "# print('*' * 18)\n",
        "# print('K Nearest Neighbor')\n",
        "# print('*' * 18)  "
      ],
      "execution_count": null,
      "outputs": []
    },
    {
      "cell_type": "code",
      "metadata": {
        "id": "-jCEg04NZul7"
      },
      "source": [
        "# KNN = KNNClassifier()"
      ],
      "execution_count": null,
      "outputs": []
    },
    {
      "cell_type": "code",
      "metadata": {
        "id": "VI5b08DvZ06H"
      },
      "source": [
        "# KNN.fit(X,y)"
      ],
      "execution_count": null,
      "outputs": []
    },
    {
      "cell_type": "code",
      "metadata": {
        "id": "oYQHoectaOgJ"
      },
      "source": [
        "# y_hat=KNN.predict(X,200)"
      ],
      "execution_count": null,
      "outputs": []
    },
    {
      "cell_type": "code",
      "metadata": {
        "id": "g1GaksJYfRBz"
      },
      "source": [
        "# accuracy(y,y_hat)"
      ],
      "execution_count": null,
      "outputs": []
    },
    {
      "cell_type": "code",
      "metadata": {
        "id": "p7rVNIpZJ-De"
      },
      "source": [
        "# y_hat_test=KNN.predict(testx)"
      ],
      "execution_count": null,
      "outputs": []
    },
    {
      "cell_type": "code",
      "metadata": {
        "id": "xXTnIU3iKCOI"
      },
      "source": [
        "# accuracy(testy,y_hat_test)"
      ],
      "execution_count": null,
      "outputs": []
    }
  ]
}